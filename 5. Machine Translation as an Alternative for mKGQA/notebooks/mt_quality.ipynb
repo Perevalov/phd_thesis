{
 "cells": [
  {
   "cell_type": "code",
   "execution_count": 1,
   "id": "6497d351",
   "metadata": {},
   "outputs": [
    {
     "name": "stdout",
     "output_type": "stream",
     "text": [
      "Defaulting to user installation because normal site-packages is not writeable\n",
      "Looking in indexes: https://pypi.org/simple, https://packagecloud.io/github/git-lfs/pypi/simple\n",
      "Requirement already satisfied: nltk in /home/alex/.local/lib/python3.10/site-packages (3.8.1)\n",
      "Requirement already satisfied: tqdm in /home/alex/.local/lib/python3.10/site-packages (from nltk) (4.67.0)\n",
      "Requirement already satisfied: click in /home/alex/.local/lib/python3.10/site-packages (from nltk) (8.1.7)\n",
      "Requirement already satisfied: joblib in /home/alex/.local/lib/python3.10/site-packages (from nltk) (1.4.2)\n",
      "Requirement already satisfied: regex>=2021.8.3 in /home/alex/.local/lib/python3.10/site-packages (from nltk) (2024.9.11)\n",
      "Note: you may need to restart the kernel to use updated packages.\n"
     ]
    }
   ],
   "source": [
    "%pip install nltk"
   ]
  },
  {
   "cell_type": "code",
   "execution_count": 20,
   "id": "7ff873cb-f39b-4251-910d-08020a6c7300",
   "metadata": {},
   "outputs": [],
   "source": [
    "import json\n",
    "from nltk.translate import nist_score, bleu_score\n",
    "\n",
    "helsinki_src = ['en', 'de', 'ru', 'lt', 'uk', 'fr']\n",
    "yandex_src = ['ba',]"
   ]
  },
  {
   "cell_type": "code",
   "execution_count": 5,
   "id": "04cfe29c-7cb2-4f8d-9178-038b9eb4bd35",
   "metadata": {},
   "outputs": [
    {
     "name": "stdout",
     "output_type": "stream",
     "text": [
      "3.210584896448878\n",
      "0.6905103676445132\n"
     ]
    }
   ],
   "source": [
    "print(nist_score.sentence_nist(['Hello how are you', 'Hey how are you'], 'Hi how are you')) # the higher the beter\n",
    "print(bleu_score.sentence_bleu(['Hello how are you'], 'Hi how are you')) # from 0 to 1"
   ]
  },
  {
   "cell_type": "code",
   "execution_count": 6,
   "id": "61529adf-ad66-4054-8fbe-7214dd9c4f5d",
   "metadata": {},
   "outputs": [],
   "source": [
    "def read_json(filename):\n",
    "    with open(filename) as f:\n",
    "        return json.load(f)\n",
    "    \n",
    "def write_json(data, filename):\n",
    "    with open(filename, 'w') as f:\n",
    "        json.dump(data, f, ensure_ascii=False, indent=4)\n",
    "        \n",
    "def get_tgt_langs(data):\n",
    "    tgt_langs = list()\n",
    "    for q in data['questions']:\n",
    "        for l in q['question']:\n",
    "            if l['language'] not in tgt_langs:\n",
    "                tgt_langs.append(l['language'])\n",
    "        break\n",
    "    return tgt_langs\n",
    "\n",
    "def get_representations(data, id_, lang):\n",
    "    representations = list()\n",
    "    for q in data['questions']:\n",
    "        if q['id'] == id_:\n",
    "            for l in q['question']:\n",
    "                if l['language'] == lang:\n",
    "                    representations.append(l['string'])\n",
    "            break\n",
    "    return representations"
   ]
  },
  {
   "cell_type": "code",
   "execution_count": 7,
   "id": "11be84d8-4b14-4176-99d0-e8cdcae3dca6",
   "metadata": {},
   "outputs": [],
   "source": [
    "test = read_json(\"../data/qald_test_wikidata.json\")"
   ]
  },
  {
   "cell_type": "markdown",
   "id": "db36351d-4550-4002-b4bd-3ea58e9198b4",
   "metadata": {},
   "source": [
    "# Helsinki NLP"
   ]
  },
  {
   "cell_type": "code",
   "execution_count": 14,
   "id": "839071e7-4b0c-4c17-8e14-a781eb9033d4",
   "metadata": {},
   "outputs": [],
   "source": [
    "# todo src-tgt storage\n",
    "bleu_dict = dict()\n",
    "nist_dict = dict()\n",
    "\n",
    "for lang in helsinki_src:\n",
    "    translated_test = read_json(f\"../data/translated/qald_train_wikidata-helsinki-{lang}.json\")\n",
    "    tgt_langs = get_tgt_langs(translated_test)\n",
    "    \n",
    "    bleu_dict[lang] = dict()\n",
    "    nist_dict[lang] = dict()\n",
    "    \n",
    "    for tgt in tgt_langs:\n",
    "        bleu_dict[lang][tgt] = list()\n",
    "        nist_dict[lang][tgt] = list()\n",
    "    \n",
    "    for q in test['questions']:\n",
    "        for tgt in tgt_langs:\n",
    "            representations = get_representations(translated_test, q['id'], tgt)\n",
    "            original = get_representations(test, q['id'], tgt)\n",
    "            if len(original) and len(representations):\n",
    "                bleu_dict[lang][tgt].append(bleu_score.sentence_bleu(original, representations[0]))\n",
    "                nist_dict[lang][tgt].append(nist_score.sentence_nist(original, representations[0]))"
   ]
  },
  {
   "cell_type": "code",
   "execution_count": 15,
   "id": "91431548-74d8-48ea-9926-a95e4ce48f3e",
   "metadata": {},
   "outputs": [
    {
     "name": "stdout",
     "output_type": "stream",
     "text": [
      "---------- en de --------------\n",
      "BLEU: 0.08642620301475021\n",
      "NIST: 2.0092406538360383\n",
      "---------- en ru --------------\n",
      "BLEU: 0.055689327882144306\n",
      "NIST: 1.834447265611166\n",
      "---------- en fr --------------\n",
      "BLEU: 0.06714250095197337\n",
      "NIST: 2.032730434401108\n",
      "---------- de en --------------\n",
      "BLEU: 0.0800307914963027\n",
      "NIST: 1.9213823727059245\n",
      "---------- de fr --------------\n",
      "BLEU: 0.08224967483439095\n",
      "NIST: 2.292955492898556\n",
      "---------- ru en --------------\n",
      "BLEU: 0.0676708993438789\n",
      "NIST: 1.8573814943078344\n",
      "---------- ru fr --------------\n",
      "BLEU: 0.07136961096882107\n",
      "NIST: 2.0548540916880635\n",
      "---------- lt de --------------\n",
      "BLEU: 0.0893717027259498\n",
      "NIST: 2.0077126589930328\n",
      "---------- lt ru --------------\n",
      "BLEU: 0.05151551563039392\n",
      "NIST: 1.8071935354036497\n",
      "---------- lt fr --------------\n",
      "BLEU: 0.04835950054536907\n",
      "NIST: 1.8211274076552066\n",
      "---------- uk en --------------\n",
      "BLEU: 0.0721771764063748\n",
      "NIST: 1.9477471515662248\n",
      "---------- uk de --------------\n",
      "BLEU: 0.08710618095866396\n",
      "NIST: 1.9319946343298742\n",
      "---------- uk ru --------------\n",
      "BLEU: 0.047763944124067426\n",
      "NIST: 1.7649531594443513\n",
      "---------- uk fr --------------\n",
      "BLEU: 0.08126133857999039\n",
      "NIST: 1.9762787612312833\n",
      "---------- fr en --------------\n",
      "BLEU: 0.08441214282847273\n",
      "NIST: 1.9321199562156404\n",
      "---------- fr de --------------\n",
      "BLEU: 0.08923673946988772\n",
      "NIST: 1.9249715569815096\n",
      "---------- fr ru --------------\n",
      "BLEU: 0.05909876858341867\n",
      "NIST: 1.7075197756035558\n"
     ]
    }
   ],
   "source": [
    "for lang in helsinki_src:\n",
    "    translated_test = read_json(f\"../data/translated/qald_train_wikidata-helsinki-{lang}.json\")\n",
    "    tgt_langs = get_tgt_langs(translated_test)\n",
    "    \n",
    "    for tgt in tgt_langs:\n",
    "        print('----------', lang, tgt, '--------------')\n",
    "        if len(bleu_dict[lang][tgt]) > 0:\n",
    "            print(\"BLEU:\", sum(bleu_dict[lang][tgt])/len(bleu_dict[lang][tgt]))\n",
    "            print(\"NIST:\", sum(nist_dict[lang][tgt])/len(nist_dict[lang][tgt]))\n",
    "        else:\n",
    "            print(\"No intersections between orig and translated\")"
   ]
  },
  {
   "cell_type": "markdown",
   "id": "5d88c722-f684-41c4-aaae-38e8bc08ee37",
   "metadata": {},
   "source": [
    "# Yandex"
   ]
  },
  {
   "cell_type": "code",
   "execution_count": 21,
   "id": "c4984f30-01f3-4489-8f5c-58bd059692a7",
   "metadata": {},
   "outputs": [],
   "source": [
    "# todo src-tgt storage\n",
    "bleu_dict = dict()\n",
    "nist_dict = dict()\n",
    "\n",
    "for lang in yandex_src:\n",
    "    translated_test = read_json(f\"../data/translated/qald_test_wikidata-yandex-{lang}.json\")\n",
    "    tgt_langs = get_tgt_langs(translated_test)\n",
    "    \n",
    "    bleu_dict[lang] = dict()\n",
    "    nist_dict[lang] = dict()\n",
    "    \n",
    "    for tgt in tgt_langs:\n",
    "        bleu_dict[lang][tgt] = list()\n",
    "        nist_dict[lang][tgt] = list()\n",
    "    \n",
    "    for q in test['questions']:\n",
    "        for tgt in tgt_langs:\n",
    "            representations = get_representations(translated_test, q['id'], tgt)\n",
    "            original = get_representations(test, q['id'], tgt)\n",
    "            if len(original) and len(representations):\n",
    "                bleu_dict[lang][tgt].append(bleu_score.sentence_bleu(original, representations[0]))\n",
    "                nist_dict[lang][tgt].append(nist_score.sentence_nist(original, representations[0]))"
   ]
  },
  {
   "cell_type": "code",
   "execution_count": 22,
   "id": "656a2631-2ada-4d6c-967c-c614550218c5",
   "metadata": {},
   "outputs": [
    {
     "name": "stdout",
     "output_type": "stream",
     "text": [
      "---------- ba en --------------\n",
      "BLEU: 0.5501396718042613\n",
      "NIST: 3.676277616715481\n",
      "---------- ba de --------------\n",
      "BLEU: 0.5088845838080437\n",
      "NIST: 3.4857228063101258\n",
      "---------- ba ru --------------\n",
      "BLEU: 0.6274610268352264\n",
      "NIST: 3.993843593666274\n",
      "---------- ba fr --------------\n",
      "BLEU: 0.4894012916585365\n",
      "NIST: 3.444668611894536\n"
     ]
    }
   ],
   "source": [
    "for lang in yandex_src:\n",
    "    translated_test = read_json(f\"../data/translated/qald_test_wikidata-yandex-{lang}.json\")\n",
    "    tgt_langs = get_tgt_langs(translated_test)\n",
    "    \n",
    "    for tgt in tgt_langs:\n",
    "        print('----------', lang, tgt, '--------------')\n",
    "        if len(bleu_dict[lang][tgt]) > 0:\n",
    "            print(\"BLEU:\", sum(bleu_dict[lang][tgt])/len(bleu_dict[lang][tgt]))\n",
    "            print(\"NIST:\", sum(nist_dict[lang][tgt])/len(nist_dict[lang][tgt]))\n",
    "        else:\n",
    "            print(\"No intersections between orig and translated\")"
   ]
  },
  {
   "cell_type": "code",
   "execution_count": null,
   "id": "2b354ade-fbf0-4979-ab6c-8e3dd9bf22d4",
   "metadata": {},
   "outputs": [],
   "source": []
  }
 ],
 "metadata": {
  "kernelspec": {
   "display_name": "Python 3",
   "language": "python",
   "name": "python3"
  },
  "language_info": {
   "codemirror_mode": {
    "name": "ipython",
    "version": 3
   },
   "file_extension": ".py",
   "mimetype": "text/x-python",
   "name": "python",
   "nbconvert_exporter": "python",
   "pygments_lexer": "ipython3",
   "version": "3.10.12"
  }
 },
 "nbformat": 4,
 "nbformat_minor": 5
}
